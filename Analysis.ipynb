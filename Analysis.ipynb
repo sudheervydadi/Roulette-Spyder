{
 "cells": [
  {
   "cell_type": "code",
   "execution_count": 1,
   "metadata": {},
   "outputs": [],
   "source": [
    "import numpy as np\n",
    "import pandas as pd\n",
    "import statistics\n",
    "import os"
   ]
  },
  {
   "cell_type": "code",
   "execution_count": 2,
   "metadata": {},
   "outputs": [],
   "source": [
    "wheel=np.array([0,32,15,19,4,21,2,25,17,34,6,27,13,36,11,30,8,23,10,5,24,16,33,1,20,14,31,9,22,18,29,7,28,12,35,3,26])"
   ]
  },
  {
   "cell_type": "code",
   "execution_count": 348,
   "metadata": {},
   "outputs": [],
   "source": [
    "os.chdir(r\"C:\\Users\\sudhe\\Desktop\\GitHub Repository\\Roulette-Spyder\")\n",
    "master_spin_data=pd.read_csv('master_spin_data.csv')"
   ]
  },
  {
   "cell_type": "code",
   "execution_count": 3,
   "metadata": {},
   "outputs": [],
   "source": [
    "spin_wheel_1st_numbers=wheel[1::3]\n",
    "spin_wheel_2nd_numbers=wheel[2::3]\n",
    "spin_wheel_3rd_numbers=wheel[3::3]\n",
    "spin_wheel_1st_dozen=wheel[1:13]\n",
    "spin_wheel_2nd_dozen=wheel[13:25]\n",
    "spin_wheel_3rd_dozen=wheel[25:37]\n",
    "first_dozen=np.arange(1,13)\n",
    "second_dozen=np.arange(13,25)\n",
    "third_dozen=np.arange(25,37)\n",
    "first_row=np.arange(1,37,3)\n",
    "second_row=np.arange(2,37,3)\n",
    "third_row=np.arange(3,37,3)\n",
    "tiers=np.array([27,13,36,11,30,8,23,10,5,24,16,33])\n",
    "orphelins=np.array([17,34,6,1,20,14,31,9])\n",
    "jeu_zero_voisins=np.array([0,32,15,19,4,21,2,25,22,18,29,7,28,12,35,3,26])"
   ]
  },
  {
   "cell_type": "code",
   "execution_count": 5,
   "metadata": {},
   "outputs": [],
   "source": [
    "first_dozen_first_row_11=np.union1d(first_dozen,first_row)\n",
    "first_dozen_second_row_12=np.union1d(first_dozen,second_row)\n",
    "first_dozen_third_row_13=np.union1d(first_dozen,third_row)\n",
    "second_dozen_first_row_21=np.union1d(second_dozen,first_row)\n",
    "second_dozen_second_row_22=np.union1d(second_dozen,second_row)\n",
    "second_dozen_third_row_23=np.union1d(second_dozen,third_row)\n",
    "third_dozen_first_row_31=np.union1d(third_dozen,first_row)\n",
    "third_dozen_second_row_32=np.union1d(third_dozen,second_row)\n",
    "third_dozen_third_row_33=np.union1d(third_dozen,third_row)"
   ]
  },
  {
   "cell_type": "code",
   "execution_count": 177,
   "metadata": {},
   "outputs": [],
   "source": [
    "new_dozen1=wheel[1:].reshape(18,2)[::3].flatten()\n",
    "new_dozen2=wheel[1:].reshape(18,2)[1::3].flatten()\n",
    "new_dozen3=wheel[1:].reshape(18,2)[2::3].flatten()"
   ]
  },
  {
   "cell_type": "code",
   "execution_count": 180,
   "metadata": {},
   "outputs": [
    {
     "data": {
      "text/plain": [
       "1    466\n",
       "2     18\n",
       "4      5\n",
       "3      3\n",
       "5      2\n",
       "6      1\n",
       "dtype: int64"
      ]
     },
     "execution_count": 180,
     "metadata": {},
     "output_type": "execute_result"
    }
   ],
   "source": [
    "previous_landing=master_spin_data.iloc[720].spin_landing\n",
    "count=1\n",
    "landing_count=[]\n",
    "#temp=np.union1d(first_dozen,third_dozen)\n",
    "temp=new_dozen3\n",
    "for i in master_spin_data.iloc[721:].spin_landing.values:\n",
    "    if pd.Series(temp).isin([i]).sum()==1 and pd.Series(temp).isin([previous_landing]).sum()==1:\n",
    "        count+=1\n",
    "    else:\n",
    "        landing_count.append(count)\n",
    "        count=1\n",
    "        \n",
    "    previous_landing=i\n",
    "\n",
    "pd.Series(landing_count).value_counts()\n",
    "#np.array(pd.Series(landing_count))"
   ]
  },
  {
   "cell_type": "code",
   "execution_count": 140,
   "metadata": {},
   "outputs": [
    {
     "data": {
      "text/plain": [
       "array([32,  4, 25,  6, 36,  8,  5, 33, 14, 22,  7, 35])"
      ]
     },
     "execution_count": 140,
     "metadata": {},
     "output_type": "execute_result"
    }
   ],
   "source": [
    "spin_wheel_1st_numbers"
   ]
  },
  {
   "cell_type": "code",
   "execution_count": 142,
   "metadata": {},
   "outputs": [
    {
     "data": {
      "text/plain": [
       "array([ 0, 19,  2, 34, 13, 30, 10, 16, 20,  9, 29, 12, 26])"
      ]
     },
     "execution_count": 142,
     "metadata": {},
     "output_type": "execute_result"
    }
   ],
   "source": [
    "wheel[::3]"
   ]
  },
  {
   "cell_type": "code",
   "execution_count": null,
   "metadata": {},
   "outputs": [],
   "source": [
    "1,2,3,4,6,12"
   ]
  },
  {
   "cell_type": "code",
   "execution_count": 146,
   "metadata": {},
   "outputs": [
    {
     "data": {
      "text/plain": [
       "array([[32, 15, 19,  4, 21,  2, 25, 17, 34,  6, 27, 13],\n",
       "       [36, 11, 30,  8, 23, 10,  5, 24, 16, 33,  1, 20],\n",
       "       [14, 31,  9, 22, 18, 29,  7, 28, 12, 35,  3, 26]])"
      ]
     },
     "execution_count": 146,
     "metadata": {},
     "output_type": "execute_result"
    }
   ],
   "source": [
    "wheel[1:].reshape(3,12)"
   ]
  },
  {
   "cell_type": "code",
   "execution_count": 148,
   "metadata": {},
   "outputs": [
    {
     "data": {
      "text/plain": [
       "array([[32, 15, 19,  4, 21,  2, 25, 17, 34],\n",
       "       [ 6, 27, 13, 36, 11, 30,  8, 23, 10],\n",
       "       [ 5, 24, 16, 33,  1, 20, 14, 31,  9],\n",
       "       [22, 18, 29,  7, 28, 12, 35,  3, 26]])"
      ]
     },
     "execution_count": 148,
     "metadata": {},
     "output_type": "execute_result"
    }
   ],
   "source": [
    "wheel[1:].reshape(4,9)"
   ]
  },
  {
   "cell_type": "code",
   "execution_count": 158,
   "metadata": {},
   "outputs": [
    {
     "data": {
      "text/plain": [
       "array([32, 15, 19,  4, 21,  2, 25, 17, 34,  6, 27, 13, 36, 11, 30,  8, 23,\n",
       "       10,  5, 24, 16, 33,  1, 20, 14, 31,  9, 22, 18, 29,  7, 28, 12, 35,\n",
       "        3, 26,  0])"
      ]
     },
     "execution_count": 158,
     "metadata": {},
     "output_type": "execute_result"
    }
   ],
   "source": [
    "np.concatenate((wheel[1:],wheel[0]),axis = None)"
   ]
  },
  {
   "cell_type": "code",
   "execution_count": 167,
   "metadata": {},
   "outputs": [
    {
     "data": {
      "text/plain": [
       "array([15, 19,  4, 21,  2, 25, 17, 34,  6, 27, 13, 36, 11, 30,  8, 23, 10,\n",
       "        5, 24, 16, 33,  1, 20, 14, 31,  9, 22, 18, 29,  7, 28, 12, 35,  3,\n",
       "       26,  0])"
      ]
     },
     "execution_count": 167,
     "metadata": {},
     "output_type": "execute_result"
    }
   ],
   "source": [
    "np.concatenate((wheel[2:],wheel[:1]),axis = None)"
   ]
  },
  {
   "cell_type": "code",
   "execution_count": null,
   "metadata": {},
   "outputs": [],
   "source": [
    "for i in wheel[1:].reshape(18,2):\n",
    "    "
   ]
  },
  {
   "cell_type": "code",
   "execution_count": 163,
   "metadata": {},
   "outputs": [
    {
     "data": {
      "text/plain": [
       "array([32, 15, 25, 17, 36, 11,  5, 24, 14, 31,  7, 28])"
      ]
     },
     "execution_count": 163,
     "metadata": {},
     "output_type": "execute_result"
    }
   ],
   "source": [
    "wheel[1:].reshape(18,2)[::3].flatten()"
   ]
  },
  {
   "cell_type": "code",
   "execution_count": 164,
   "metadata": {},
   "outputs": [
    {
     "data": {
      "text/plain": [
       "array([19,  4, 34,  6, 30,  8, 16, 33,  9, 22, 12, 35])"
      ]
     },
     "execution_count": 164,
     "metadata": {},
     "output_type": "execute_result"
    }
   ],
   "source": [
    "wheel[1:].reshape(18,2)[1::3].flatten()"
   ]
  },
  {
   "cell_type": "code",
   "execution_count": 165,
   "metadata": {},
   "outputs": [
    {
     "data": {
      "text/plain": [
       "array([21,  2, 27, 13, 23, 10,  1, 20, 18, 29,  3, 26])"
      ]
     },
     "execution_count": 165,
     "metadata": {},
     "output_type": "execute_result"
    }
   ],
   "source": [
    "wheel[1:].reshape(18,2)[2::3].flatten()"
   ]
  },
  {
   "cell_type": "code",
   "execution_count": 166,
   "metadata": {},
   "outputs": [
    {
     "data": {
      "text/plain": [
       "array([32, 15, 19,  6, 27, 13,  5, 24, 16, 22, 18, 29])"
      ]
     },
     "execution_count": 166,
     "metadata": {},
     "output_type": "execute_result"
    }
   ],
   "source": [
    "wheel[1:].reshape(12,3)[::3].flatten()"
   ]
  },
  {
   "cell_type": "code",
   "execution_count": 173,
   "metadata": {},
   "outputs": [
    {
     "data": {
      "text/plain": [
       "array([19,  4, 21,  2, 25, 17, 34,  6, 27, 13, 36, 11, 30,  8, 23, 10,  5,\n",
       "       24, 16, 33,  1, 20, 14, 31,  9, 22, 18, 29,  7, 28, 12, 35,  3, 26,\n",
       "        0, 32, 15])"
      ]
     },
     "execution_count": 173,
     "metadata": {},
     "output_type": "execute_result"
    }
   ],
   "source": [
    "np.concatenate((wheel[3:],wheel[:3]),axis = None)"
   ]
  },
  {
   "cell_type": "code",
   "execution_count": 196,
   "metadata": {},
   "outputs": [
    {
     "data": {
      "text/plain": [
       "array([26,  0, 32, 15, 19,  4, 21,  2, 25, 17, 34,  6, 27, 13, 36, 11, 30,\n",
       "        8, 23, 10,  5, 24, 16, 33,  1, 20, 14, 31,  9, 22, 18, 29,  7, 28,\n",
       "       12, 35,  3])"
      ]
     },
     "execution_count": 196,
     "metadata": {},
     "output_type": "execute_result"
    }
   ],
   "source": [
    "np.concatenate((wheel[36:],wheel[:36]),axis = None)"
   ]
  },
  {
   "cell_type": "code",
   "execution_count": 199,
   "metadata": {},
   "outputs": [
    {
     "data": {
      "text/plain": [
       "[[[1, 2, 3], [4, 5, 6]],\n",
       " [[7, 8, 9], [10, 11, 12]],\n",
       " [[13, 14, 15], [16, 17, 18]],\n",
       " [[19, 20, 21], [22, 23, 24]],\n",
       " [[25, 26, 27], [28, 29, 30]],\n",
       " [[31, 32, 33], [34, 35, 36]]]"
      ]
     },
     "execution_count": 199,
     "metadata": {},
     "output_type": "execute_result"
    }
   ],
   "source": [
    "np.arange(1,37).reshape(-1,2,3).tolist()"
   ]
  },
  {
   "cell_type": "code",
   "execution_count": null,
   "metadata": {},
   "outputs": [],
   "source": [
    "np.tolist()"
   ]
  },
  {
   "cell_type": "code",
   "execution_count": 363,
   "metadata": {},
   "outputs": [
    {
     "name": "stdout",
     "output_type": "stream",
     "text": [
      "Dozen [1, 2, 3, 4, 5, 6, 7, 8, 9, 10, 11, 12]       : 5\n",
      "{1: 468, 2: 19, 3: 9, 4: 2, 5: 1}\n",
      "Dozen [1, 2, 3, 4, 5, 6, 13, 14, 15, 16, 17, 18]       : 6\n",
      "{1: 447, 2: 27, 3: 7, 6: 2, 4: 2, 5: 1}\n",
      "Dozen [1, 2, 3, 4, 5, 6, 19, 20, 21, 22, 23, 24]       : 4\n",
      "{1: 461, 2: 23, 3: 8, 4: 4}\n",
      "Dozen [1, 2, 3, 4, 5, 6, 25, 26, 27, 28, 29, 30]       : 4\n",
      "{1: 468, 2: 22, 3: 9, 4: 2}\n",
      "Dozen [1, 2, 3, 4, 5, 6, 31, 32, 33, 34, 35, 36]       : 4\n",
      "{1: 490, 2: 13, 3: 9, 4: 1}\n",
      "Dozen [7, 8, 9, 10, 11, 12, 13, 14, 15, 16, 17, 18]       : 5\n",
      "{1: 440, 2: 28, 3: 11, 4: 3, 5: 1}\n",
      "Dozen [7, 8, 9, 10, 11, 12, 19, 20, 21, 22, 23, 24]       : 4\n",
      "{1: 435, 2: 32, 3: 13, 4: 2}\n",
      "Dozen [7, 8, 9, 10, 11, 12, 25, 26, 27, 28, 29, 30]       : 6\n",
      "{1: 420, 2: 30, 4: 8, 3: 7, 6: 1, 5: 1}\n",
      "Dozen [7, 8, 9, 10, 11, 12, 31, 32, 33, 34, 35, 36]       : 6\n",
      "{1: 460, 2: 25, 3: 7, 6: 1, 5: 1, 4: 1}\n",
      "Dozen [13, 14, 15, 16, 17, 18, 19, 20, 21, 22, 23, 24]       : 6\n",
      "{1: 428, 2: 33, 3: 7, 4: 4, 5: 2, 6: 1}\n",
      "Dozen [13, 14, 15, 16, 17, 18, 25, 26, 27, 28, 29, 30]       : 5\n",
      "{1: 439, 2: 28, 3: 9, 4: 5, 5: 1}\n",
      "Dozen [13, 14, 15, 16, 17, 18, 31, 32, 33, 34, 35, 36]       : 5\n",
      "{1: 461, 2: 26, 3: 7, 4: 2, 5: 1}\n",
      "Dozen [19, 20, 21, 22, 23, 24, 25, 26, 27, 28, 29, 30]       : 5\n",
      "{1: 438, 2: 23, 3: 14, 4: 4, 5: 1}\n",
      "Dozen [19, 20, 21, 22, 23, 24, 31, 32, 33, 34, 35, 36]       : 5\n",
      "{1: 446, 2: 20, 3: 12, 4: 5, 5: 1}\n",
      "Dozen [25, 26, 27, 28, 29, 30, 31, 32, 33, 34, 35, 36]       : 4\n",
      "{1: 464, 2: 23, 3: 7, 4: 4}\n",
      "1    6765.0\n",
      "2     372.0\n",
      "3     136.0\n",
      "4      49.0\n",
      "5      11.0\n",
      "6       5.0\n",
      "dtype: float64\n"
     ]
    },
    {
     "data": {
      "text/plain": [
       "'\\nbid_muitiplier=[2,3,5,5]\\nfor i in range (5,20):\\n    print(i,sum_of_total_dozen_bets[sum_of_total_dozen_bets.index>i][:4].reset_index(drop=True).mul(pd.Series(bid_muitiplier)).sum()-sum_of_total_dozen_bets[sum_of_total_dozen_bets.index>i][4:].sum()*13)\\n\\n'"
      ]
     },
     "execution_count": 363,
     "metadata": {},
     "output_type": "execute_result"
    }
   ],
   "source": [
    "from itertools import combinations \n",
    "comb = combinations(np.arange(1,37).reshape(-1,2,3).tolist(),2) \n",
    "\n",
    "dozens=[]\n",
    "dict_universal={i:0 for i in range(1,50)}\n",
    "sum_of_total_dozen_bets=pd.Series(dict_universal)\n",
    "for i in list(comb):\n",
    "    dozens.append(np.array(list(i)).flatten().tolist())\n",
    "\n",
    "for dozen in dozens:\n",
    "    previous_landing=master_spin_data.iloc[2016].spin_landing\n",
    "    count=1\n",
    "    landing_count=[]\n",
    "    \n",
    "    #temp=np.setdiff1d(np.arange(1,37),np.array(dozen))\n",
    "    temp=dozen\n",
    "    for i in master_spin_data.iloc[2017:].spin_landing.values:\n",
    "        if pd.Series(temp).isin([i]).sum()==1 and pd.Series(temp).isin([previous_landing]).sum()==1:\n",
    "            count+=1\n",
    "        else:\n",
    "            landing_count.append(count)\n",
    "            count=1\n",
    "\n",
    "        previous_landing=i\n",
    "    \n",
    "    sum_of_total_dozen_bets=sum_of_total_dozen_bets.add(pd.Series(landing_count).value_counts(),fill_value=0).fillna(0)\n",
    "    \n",
    "    print(\"Dozen {}       : {}\".format(dozen,pd.Series(landing_count).max()))\n",
    "    print(pd.Series(landing_count).value_counts().to_dict())\n",
    "\n",
    "sum_of_total_dozen_bets=sum_of_total_dozen_bets[sum_of_total_dozen_bets!=0.0]\n",
    "print(sum_of_total_dozen_bets)\n",
    "\n",
    "'''\n",
    "bid_muitiplier=[2,3,5,5]\n",
    "for i in range (5,20):\n",
    "    print(i,sum_of_total_dozen_bets[sum_of_total_dozen_bets.index>i][:4].reset_index(drop=True).mul(pd.Series(bid_muitiplier)).sum()-sum_of_total_dozen_bets[sum_of_total_dozen_bets.index>i][4:].sum()*13)\n",
    "\n",
    "'''\n"
   ]
  },
  {
   "cell_type": "code",
   "execution_count": 277,
   "metadata": {},
   "outputs": [
    {
     "name": "stdout",
     "output_type": "stream",
     "text": [
      "5 85.0\n",
      "6 70.0\n",
      "7 1.0\n",
      "8 13.0\n",
      "9 -7.0\n",
      "10 1.0\n",
      "11 -2.0\n",
      "12 21.0\n",
      "13 21.0\n",
      "14 23.0\n",
      "15 14.0\n",
      "16 5.0\n",
      "17 2.0\n",
      "18 0.0\n",
      "19 0.0\n"
     ]
    },
    {
     "data": {
      "text/plain": [
       "1     4601.0\n",
       "2      541.0\n",
       "3      333.0\n",
       "4      251.0\n",
       "5      150.0\n",
       "6       96.0\n",
       "7       69.0\n",
       "8       39.0\n",
       "9       36.0\n",
       "10      18.0\n",
       "11      10.0\n",
       "12       9.0\n",
       "13       5.0\n",
       "14       4.0\n",
       "15       2.0\n",
       "16       3.0\n",
       "17       1.0\n",
       "18       1.0\n",
       "dtype: float64"
      ]
     },
     "execution_count": 277,
     "metadata": {},
     "output_type": "execute_result"
    }
   ],
   "source": [
    "bid_muitiplier=[2,3,5,5]\n",
    "for i in range (5,20):\n",
    "    print(i,sum_of_total_dozen_bets[sum_of_total_dozen_bets.index>i][:4].reset_index(drop=True).mul(pd.Series(bid_muitiplier)).sum()-sum_of_total_dozen_bets[sum_of_total_dozen_bets.index>i][4:].sum()*13)\n",
    "\n",
    "sum_of_total_dozen_bets"
   ]
  },
  {
   "cell_type": "code",
   "execution_count": 367,
   "metadata": {},
   "outputs": [
    {
     "name": "stdout",
     "output_type": "stream",
     "text": [
      "11\n",
      "[1, 2, 3, 4, 5, 6, 7, 8, 9, 10, 11, 12] [ 1  4  7 10 13 16 19 22 25 28 31 34]\n",
      "{1: 1431, 2: 167, 3: 67, 4: 55, 5: 31, 8: 8, 7: 7, 6: 7, 9: 5, 11: 1, 10: 1}\n",
      "14\n",
      "[1, 2, 3, 4, 5, 6, 7, 8, 9, 10, 11, 12] [ 2  5  8 11 14 17 20 23 26 29 32 35]\n",
      "{1: 1464, 2: 164, 3: 87, 4: 54, 5: 20, 6: 15, 8: 4, 7: 4, 9: 2, 14: 1, 10: 1}\n",
      "13\n",
      "[1, 2, 3, 4, 5, 6, 7, 8, 9, 10, 11, 12] [ 3  6  9 12 15 18 21 24 27 30 33 36]\n",
      "{1: 1440, 2: 147, 3: 80, 4: 55, 5: 30, 6: 11, 7: 10, 8: 4, 9: 3, 13: 1, 10: 1}\n",
      "14\n",
      "[1, 2, 3, 4, 5, 6, 13, 14, 15, 16, 17, 18] [ 1  4  7 10 13 16 19 22 25 28 31 34]\n",
      "{1: 1419, 2: 159, 3: 88, 4: 42, 5: 25, 6: 15, 7: 12, 8: 5, 9: 2, 14: 1, 13: 1, 10: 1}\n",
      "10\n",
      "[1, 2, 3, 4, 5, 6, 13, 14, 15, 16, 17, 18] [ 2  5  8 11 14 17 20 23 26 29 32 35]\n",
      "{1: 1466, 2: 182, 3: 92, 4: 40, 5: 21, 6: 15, 7: 7, 8: 3, 10: 2, 9: 1}\n",
      "10\n",
      "[1, 2, 3, 4, 5, 6, 13, 14, 15, 16, 17, 18] [ 3  6  9 12 15 18 21 24 27 30 33 36]\n",
      "{1: 1422, 2: 161, 3: 84, 4: 41, 5: 37, 6: 14, 7: 13, 8: 4, 10: 1}\n",
      "10\n",
      "[1, 2, 3, 4, 5, 6, 19, 20, 21, 22, 23, 24] [ 1  4  7 10 13 16 19 22 25 28 31 34]\n",
      "{1: 1471, 2: 157, 3: 79, 4: 49, 5: 28, 6: 11, 8: 8, 7: 8, 10: 1, 9: 1}\n",
      "11\n",
      "[1, 2, 3, 4, 5, 6, 19, 20, 21, 22, 23, 24] [ 2  5  8 11 14 17 20 23 26 29 32 35]\n",
      "{1: 1506, 2: 150, 3: 91, 4: 43, 5: 32, 6: 9, 8: 4, 7: 4, 9: 3, 11: 1}\n",
      "11\n",
      "[1, 2, 3, 4, 5, 6, 19, 20, 21, 22, 23, 24] [ 3  6  9 12 15 18 21 24 27 30 33 36]\n",
      "{1: 1455, 2: 160, 3: 89, 4: 46, 5: 32, 6: 12, 7: 6, 8: 4, 11: 1, 10: 1, 9: 1}\n",
      "11\n",
      "[1, 2, 3, 4, 5, 6, 25, 26, 27, 28, 29, 30] [ 1  4  7 10 13 16 19 22 25 28 31 34]\n",
      "{1: 1476, 2: 156, 3: 65, 4: 54, 5: 21, 6: 16, 7: 9, 8: 6, 11: 3, 10: 1, 9: 1}\n",
      "13\n",
      "[1, 2, 3, 4, 5, 6, 25, 26, 27, 28, 29, 30] [ 2  5  8 11 14 17 20 23 26 29 32 35]\n",
      "{1: 1544, 2: 147, 3: 78, 4: 49, 5: 28, 6: 10, 7: 7, 8: 3, 13: 1, 9: 1}\n",
      "9\n",
      "[1, 2, 3, 4, 5, 6, 25, 26, 27, 28, 29, 30] [ 3  6  9 12 15 18 21 24 27 30 33 36]\n",
      "{1: 1458, 2: 141, 3: 78, 4: 62, 5: 32, 6: 12, 7: 10, 8: 3, 9: 1}\n",
      "11\n",
      "[1, 2, 3, 4, 5, 6, 31, 32, 33, 34, 35, 36] [ 1  4  7 10 13 16 19 22 25 28 31 34]\n",
      "{1: 1477, 2: 143, 3: 69, 4: 59, 5: 29, 6: 10, 7: 9, 8: 5, 10: 2, 9: 2, 11: 1}\n",
      "12\n",
      "[1, 2, 3, 4, 5, 6, 31, 32, 33, 34, 35, 36] [ 2  5  8 11 14 17 20 23 26 29 32 35]\n",
      "{1: 1509, 2: 152, 3: 84, 4: 43, 5: 29, 7: 7, 6: 7, 8: 6, 10: 3, 12: 1}\n",
      "12\n",
      "[1, 2, 3, 4, 5, 6, 31, 32, 33, 34, 35, 36] [ 3  6  9 12 15 18 21 24 27 30 33 36]\n",
      "{1: 1470, 2: 133, 3: 82, 4: 61, 5: 22, 6: 15, 7: 10, 10: 2, 9: 2, 8: 2, 12: 1}\n",
      "9\n",
      "[7, 8, 9, 10, 11, 12, 13, 14, 15, 16, 17, 18] [ 1  4  7 10 13 16 19 22 25 28 31 34]\n",
      "{1: 1412, 2: 168, 3: 92, 4: 45, 5: 28, 6: 17, 8: 7, 7: 6, 9: 2}\n",
      "14\n",
      "[7, 8, 9, 10, 11, 12, 13, 14, 15, 16, 17, 18] [ 2  5  8 11 14 17 20 23 26 29 32 35]\n",
      "{1: 1443, 2: 174, 3: 83, 4: 43, 5: 31, 6: 14, 8: 7, 7: 3, 14: 1, 10: 1, 9: 1}\n",
      "12\n",
      "[7, 8, 9, 10, 11, 12, 13, 14, 15, 16, 17, 18] [ 3  6  9 12 15 18 21 24 27 30 33 36]\n",
      "{1: 1423, 2: 148, 3: 73, 4: 48, 5: 36, 6: 13, 8: 6, 7: 6, 10: 4, 12: 2, 11: 1, 9: 1}\n",
      "14\n",
      "[7, 8, 9, 10, 11, 12, 19, 20, 21, 22, 23, 24] [ 1  4  7 10 13 16 19 22 25 28 31 34]\n",
      "{1: 1466, 2: 167, 3: 82, 4: 54, 5: 23, 6: 10, 7: 6, 8: 4, 9: 3, 14: 1, 10: 1}\n",
      "12\n",
      "[7, 8, 9, 10, 11, 12, 19, 20, 21, 22, 23, 24] [ 2  5  8 11 14 17 20 23 26 29 32 35]\n",
      "{1: 1442, 2: 165, 3: 89, 4: 51, 5: 23, 6: 17, 7: 5, 10: 2, 9: 2, 8: 2, 12: 1}\n",
      "13\n",
      "[7, 8, 9, 10, 11, 12, 19, 20, 21, 22, 23, 24] [ 3  6  9 12 15 18 21 24 27 30 33 36]\n",
      "{1: 1430, 2: 172, 3: 86, 4: 51, 5: 24, 6: 9, 7: 8, 9: 3, 8: 3, 10: 2, 13: 1, 12: 1}\n",
      "15\n",
      "[7, 8, 9, 10, 11, 12, 25, 26, 27, 28, 29, 30] [ 1  4  7 10 13 16 19 22 25 28 31 34]\n",
      "{1: 1462, 2: 163, 3: 65, 4: 48, 5: 24, 6: 14, 7: 5, 9: 4, 12: 3, 8: 3, 15: 1, 14: 1, 11: 1, 10: 1}\n",
      "14\n",
      "[7, 8, 9, 10, 11, 12, 25, 26, 27, 28, 29, 30] [ 2  5  8 11 14 17 20 23 26 29 32 35]\n",
      "{1: 1459, 2: 159, 3: 86, 4: 47, 5: 24, 6: 16, 7: 9, 8: 3, 14: 1, 11: 1, 9: 1}\n",
      "10\n",
      "[7, 8, 9, 10, 11, 12, 25, 26, 27, 28, 29, 30] [ 3  6  9 12 15 18 21 24 27 30 33 36]\n",
      "{1: 1423, 2: 143, 3: 73, 4: 52, 5: 35, 6: 11, 8: 9, 7: 6, 9: 4, 10: 3}\n",
      "12\n",
      "[7, 8, 9, 10, 11, 12, 31, 32, 33, 34, 35, 36] [ 1  4  7 10 13 16 19 22 25 28 31 34]\n",
      "{1: 1454, 2: 163, 3: 76, 4: 44, 5: 27, 6: 16, 7: 7, 8: 6, 10: 2, 9: 2, 12: 1}\n",
      "10\n",
      "[7, 8, 9, 10, 11, 12, 31, 32, 33, 34, 35, 36] [ 2  5  8 11 14 17 20 23 26 29 32 35]\n",
      "{1: 1437, 2: 165, 3: 104, 4: 41, 5: 28, 6: 15, 7: 5, 8: 3, 10: 2, 9: 1}\n",
      "13\n",
      "[7, 8, 9, 10, 11, 12, 31, 32, 33, 34, 35, 36] [ 3  6  9 12 15 18 21 24 27 30 33 36]\n",
      "{1: 1447, 2: 155, 3: 87, 4: 45, 5: 21, 6: 13, 7: 10, 8: 5, 9: 3, 10: 2, 13: 1, 11: 1}\n",
      "9\n",
      "[13, 14, 15, 16, 17, 18, 19, 20, 21, 22, 23, 24] [ 1  4  7 10 13 16 19 22 25 28 31 34]\n",
      "{1: 1442, 2: 160, 3: 85, 4: 56, 5: 30, 6: 16, 7: 6, 9: 2, 8: 2}\n",
      "12\n",
      "[13, 14, 15, 16, 17, 18, 19, 20, 21, 22, 23, 24] [ 2  5  8 11 14 17 20 23 26 29 32 35]\n",
      "{1: 1476, 2: 157, 3: 81, 4: 50, 5: 28, 6: 19, 8: 3, 7: 3, 12: 1, 10: 1, 9: 1}\n",
      "13\n",
      "[13, 14, 15, 16, 17, 18, 19, 20, 21, 22, 23, 24] [ 3  6  9 12 15 18 21 24 27 30 33 36]\n",
      "{1: 1441, 2: 155, 3: 92, 4: 38, 5: 23, 6: 12, 7: 8, 8: 7, 10: 3, 9: 2, 13: 1, 12: 1, 11: 1}\n",
      "10\n",
      "[13, 14, 15, 16, 17, 18, 25, 26, 27, 28, 29, 30] [ 1  4  7 10 13 16 19 22 25 28 31 34]\n",
      "{1: 1472, 2: 170, 3: 95, 4: 36, 5: 24, 6: 18, 7: 7, 10: 2, 8: 2, 9: 1}\n",
      "10\n",
      "[13, 14, 15, 16, 17, 18, 25, 26, 27, 28, 29, 30] [ 2  5  8 11 14 17 20 23 26 29 32 35]\n",
      "{1: 1522, 2: 163, 3: 82, 4: 45, 5: 28, 6: 9, 7: 6, 9: 3, 8: 2, 10: 1}\n",
      "10\n",
      "[13, 14, 15, 16, 17, 18, 25, 26, 27, 28, 29, 30] [ 3  6  9 12 15 18 21 24 27 30 33 36]\n",
      "{1: 1436, 2: 151, 3: 78, 4: 41, 5: 33, 6: 12, 7: 9, 8: 8, 10: 3, 9: 3}\n",
      "8\n",
      "[13, 14, 15, 16, 17, 18, 31, 32, 33, 34, 35, 36] [ 1  4  7 10 13 16 19 22 25 28 31 34]\n",
      "{1: 1454, 2: 173, 3: 79, 4: 56, 5: 29, 6: 14, 7: 7, 8: 3}\n",
      "10\n",
      "[13, 14, 15, 16, 17, 18, 31, 32, 33, 34, 35, 36] [ 2  5  8 11 14 17 20 23 26 29 32 35]\n",
      "{1: 1464, 2: 183, 3: 92, 4: 39, 5: 23, 6: 14, 7: 6, 8: 4, 9: 2, 10: 1}\n",
      "12\n",
      "[13, 14, 15, 16, 17, 18, 31, 32, 33, 34, 35, 36] [ 3  6  9 12 15 18 21 24 27 30 33 36]\n",
      "{1: 1452, 2: 142, 3: 84, 4: 47, 5: 26, 6: 15, 7: 11, 12: 3, 8: 3, 9: 2, 11: 1}\n",
      "14\n",
      "[19, 20, 21, 22, 23, 24, 25, 26, 27, 28, 29, 30] [ 1  4  7 10 13 16 19 22 25 28 31 34]\n",
      "{1: 1499, 2: 148, 3: 72, 4: 53, 5: 30, 6: 12, 7: 10, 9: 2, 8: 2, 14: 1}\n",
      "10\n",
      "[19, 20, 21, 22, 23, 24, 25, 26, 27, 28, 29, 30] [ 2  5  8 11 14 17 20 23 26 29 32 35]\n",
      "{1: 1529, 2: 147, 3: 85, 4: 47, 5: 24, 6: 11, 7: 6, 8: 5, 10: 2, 9: 1}\n",
      "18\n",
      "[19, 20, 21, 22, 23, 24, 25, 26, 27, 28, 29, 30] [ 3  6  9 12 15 18 21 24 27 30 33 36]\n",
      "{1: 1462, 2: 158, 3: 91, 4: 45, 5: 20, 6: 14, 8: 6, 7: 5, 10: 2, 18: 1, 12: 1, 9: 1}\n",
      "11\n",
      "[19, 20, 21, 22, 23, 24, 31, 32, 33, 34, 35, 36] [ 1  4  7 10 13 16 19 22 25 28 31 34]\n",
      "{1: 1500, 2: 145, 3: 91, 4: 51, 6: 17, 5: 16, 7: 10, 8: 3, 11: 1, 9: 1}\n",
      "15\n",
      "[19, 20, 21, 22, 23, 24, 31, 32, 33, 34, 35, 36] [ 2  5  8 11 14 17 20 23 26 29 32 35]\n",
      "{1: 1486, 2: 148, 3: 83, 4: 45, 5: 29, 6: 14, 7: 6, 9: 3, 8: 2, 15: 1, 13: 1, 10: 1}\n",
      "10\n",
      "[19, 20, 21, 22, 23, 24, 31, 32, 33, 34, 35, 36] [ 3  6  9 12 15 18 21 24 27 30 33 36]\n",
      "{1: 1456, 2: 141, 3: 91, 4: 45, 5: 30, 6: 16, 7: 5, 10: 4, 8: 4, 9: 2}\n",
      "13\n",
      "[25, 26, 27, 28, 29, 30, 31, 32, 33, 34, 35, 36] [ 1  4  7 10 13 16 19 22 25 28 31 34]\n",
      "{1: 1492, 2: 173, 3: 68, 4: 53, 6: 17, 5: 17, 7: 7, 8: 4, 9: 2, 13: 1, 10: 1}\n",
      "9\n",
      "[25, 26, 27, 28, 29, 30, 31, 32, 33, 34, 35, 36] [ 2  5  8 11 14 17 20 23 26 29 32 35]\n",
      "{1: 1533, 2: 137, 3: 88, 4: 48, 5: 19, 6: 14, 7: 10, 9: 3, 8: 3}\n",
      "10\n",
      "[25, 26, 27, 28, 29, 30, 31, 32, 33, 34, 35, 36] [ 3  6  9 12 15 18 21 24 27 30 33 36]\n",
      "{1: 1460, 2: 139, 3: 92, 4: 51, 5: 21, 7: 10, 6: 10, 8: 7, 10: 3, 9: 2}\n",
      "1     65882.0\n",
      "2      7051.0\n",
      "3      3738.0\n",
      "4      2168.0\n",
      "5      1191.0\n",
      "6       598.0\n",
      "7       331.0\n",
      "8       197.0\n",
      "9        85.0\n",
      "10       61.0\n",
      "11       14.0\n",
      "12       16.0\n",
      "13        8.0\n",
      "14        7.0\n",
      "15        2.0\n",
      "18        1.0\n",
      "dtype: float64\n"
     ]
    }
   ],
   "source": [
    "dict_universal={i:0 for i in range(1,50)}\n",
    "sum_of_gun_theory_bets=pd.Series(dict_universal)\n",
    "for dozen in dozens:\n",
    "    for row in [first_row,second_row,third_row]:\n",
    "        temp=np.union1d(np.array(dozen),row)\n",
    "        previous_landing=master_spin_data.iloc[0].spin_landing\n",
    "        count=1\n",
    "        landing_count=[]\n",
    "\n",
    "        for i in master_spin_data.iloc[1:].spin_landing.values:\n",
    "            if pd.Series(temp).isin([i]).sum()==1 and pd.Series(temp).isin([previous_landing]).sum()==1:\n",
    "                count+=1\n",
    "            else:\n",
    "                landing_count.append(count)\n",
    "                count=1\n",
    "\n",
    "            previous_landing=i\n",
    "\n",
    "        sum_of_gun_theory_bets=sum_of_gun_theory_bets.add(pd.Series(landing_count).value_counts(),fill_value=0).fillna(0)\n",
    "\n",
    "        print(\"{}\".format(pd.Series(landing_count).max()))\n",
    "        print(dozen,row)\n",
    "        print(pd.Series(landing_count).value_counts().to_dict())\n",
    "\n",
    "sum_of_gun_theory_bets=sum_of_gun_theory_bets[sum_of_gun_theory_bets!=0.0]\n",
    "print(sum_of_gun_theory_bets)\n",
    "        \n",
    "        \n",
    "\n",
    "        \n",
    "            \n",
    "        "
   ]
  },
  {
   "cell_type": "code",
   "execution_count": 368,
   "metadata": {},
   "outputs": [
    {
     "data": {
      "text/plain": [
       "7"
      ]
     },
     "execution_count": 368,
     "metadata": {},
     "output_type": "execute_result"
    }
   ],
   "source": [
    "9*197+10*85-24*(61+14+16+8+7+3)"
   ]
  },
  {
   "cell_type": "code",
   "execution_count": 316,
   "metadata": {},
   "outputs": [
    {
     "data": {
      "text/plain": [
       "spin_landing                                  31\n",
       "time                  2020-10-22 17:23:54.279720\n",
       "session_spin_count                             1\n",
       "Name: 1366, dtype: object"
      ]
     },
     "execution_count": 316,
     "metadata": {},
     "output_type": "execute_result"
    }
   ],
   "source": [
    "master_spin_data.iloc[1366]"
   ]
  },
  {
   "cell_type": "code",
   "execution_count": 372,
   "metadata": {},
   "outputs": [
    {
     "data": {
      "text/plain": [
       "9     92\n",
       "21    83\n",
       "15    82\n",
       "11    82\n",
       "28    79\n",
       "14    76\n",
       "19    76\n",
       "33    76\n",
       "6     75\n",
       "17    73\n",
       "7     73\n",
       "31    72\n",
       "36    72\n",
       "16    71\n",
       "13    71\n",
       "5     71\n",
       "34    71\n",
       "12    70\n",
       "30    69\n",
       "8     68\n",
       "4     67\n",
       "3     67\n",
       "25    67\n",
       "29    67\n",
       "10    66\n",
       "26    65\n",
       "18    64\n",
       "2     64\n",
       "32    62\n",
       "24    62\n",
       "1     62\n",
       "23    62\n",
       "35    60\n",
       "20    60\n",
       "0     59\n",
       "22    58\n",
       "27    50\n",
       "Name: spin_landing, dtype: int64"
      ]
     },
     "execution_count": 372,
     "metadata": {},
     "output_type": "execute_result"
    }
   ],
   "source": [
    "master_spin_data['spin_landing'].value_counts()"
   ]
  },
  {
   "cell_type": "code",
   "execution_count": 370,
   "metadata": {},
   "outputs": [
    {
     "data": {
      "text/plain": [
       "2564"
      ]
     },
     "execution_count": 370,
     "metadata": {},
     "output_type": "execute_result"
    }
   ],
   "source": [
    "len(master_spin_data)"
   ]
  },
  {
   "cell_type": "code",
   "execution_count": 362,
   "metadata": {},
   "outputs": [
    {
     "data": {
      "text/plain": [
       "spin_landing                                  31\n",
       "time                  2020-10-22 17:23:54.279720\n",
       "session_spin_count                             1\n",
       "Name: 2016, dtype: object"
      ]
     },
     "execution_count": 362,
     "metadata": {},
     "output_type": "execute_result"
    }
   ],
   "source": []
  },
  {
   "cell_type": "code",
   "execution_count": null,
   "metadata": {},
   "outputs": [],
   "source": []
  }
 ],
 "metadata": {
  "kernelspec": {
   "display_name": "Python 3",
   "language": "python",
   "name": "python3"
  },
  "language_info": {
   "codemirror_mode": {
    "name": "ipython",
    "version": 3
   },
   "file_extension": ".py",
   "mimetype": "text/x-python",
   "name": "python",
   "nbconvert_exporter": "python",
   "pygments_lexer": "ipython3",
   "version": "3.8.3"
  }
 },
 "nbformat": 4,
 "nbformat_minor": 4
}
