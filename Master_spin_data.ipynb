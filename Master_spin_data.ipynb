{
 "cells": [
  {
   "cell_type": "code",
   "execution_count": 5,
   "metadata": {},
   "outputs": [],
   "source": [
    "import pandas as pd\n",
    "import numpy as np\n",
    "import os"
   ]
  },
  {
   "cell_type": "code",
   "execution_count": 6,
   "metadata": {},
   "outputs": [],
   "source": [
    "os.chdir(r\"C:\\Users\\sudhe\\Desktop\\GitHub Repository\\Roulette-Spyder\\Session Saves\")\n",
    "master_spin_data=pd.DataFrame()\n",
    "for i in os.listdir():\n",
    "    temp=pd.read_csv(i).drop('Unnamed: 0',axis=1).dropna()\n",
    "    master_spin_data=master_spin_data.append(temp,ignore_index=True)\n",
    "master_spin_data.to_csv(r\"C:\\Users\\sudhe\\Desktop\\GitHub Repository\\Roulette-Spyder\\master_spin_data.csv\",index=False)"
   ]
  },
  {
   "cell_type": "code",
   "execution_count": null,
   "metadata": {},
   "outputs": [],
   "source": []
  }
 ],
 "metadata": {
  "kernelspec": {
   "display_name": "Python 3",
   "language": "python",
   "name": "python3"
  },
  "language_info": {
   "codemirror_mode": {
    "name": "ipython",
    "version": 3
   },
   "file_extension": ".py",
   "mimetype": "text/x-python",
   "name": "python",
   "nbconvert_exporter": "python",
   "pygments_lexer": "ipython3",
   "version": "3.8.3"
  }
 },
 "nbformat": 4,
 "nbformat_minor": 4
}
